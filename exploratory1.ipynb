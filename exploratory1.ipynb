{
 "cells": [
  {
   "cell_type": "code",
   "execution_count": 3,
   "metadata": {
    "collapsed": false
   },
   "outputs": [
    {
     "name": "stdout",
     "output_type": "stream",
     "text": [
      "('num_row,num_col= ', (3240, 10))\n",
      "('column_names= ', ['screen_name', 'name', 'twitter_id', 'description', 'year', 'month', 'date', 'time', 'tweet_id', 'tweet'])\n"
     ]
    },
    {
     "data": {
      "text/plain": [
       "array([[<matplotlib.axes._subplots.AxesSubplot object at 0x0000000009522470>]], dtype=object)"
      ]
     },
     "execution_count": 3,
     "metadata": {},
     "output_type": "execute_result"
    },
    {
     "data": {
      "image/png": "[encoded data removed]",
      "text/plain": [
       "<matplotlib.figure.Figure at 0x93d1ac8>"
      ]
     },
     "metadata": {},
     "output_type": "display_data"
    }
   ],
   "source": [
    "%matplotlib inline\n",
    "import pandas\n",
    "import datetime\n",
    "tweets_dataframe = pandas.read_csv(\"ParkinsonsUK_tweets.csv\")\n",
    "print('num_row,num_col= ',tweets_dataframe.shape)\n",
    "columns_names=list(tweets_dataframe.columns.values)\n",
    "print('column_names= ',columns_names)\n",
    "#print(tweets_dataframe.dtypes)\n",
    "tweets_dataframe=tweets_dataframe.dropna()\n",
    "tweets_dataframe.hist('month',bins=10)"
   ]
  },
  {
   "cell_type": "code",
   "execution_count": null,
   "metadata": {
    "collapsed": true
   },
   "outputs": [],
   "source": []
  }
 ],
 "metadata": {
  "kernelspec": {
   "display_name": "Python 2",
   "language": "python",
   "name": "python2"
  },
  "language_info": {
   "codemirror_mode": {
    "name": "ipython",
    "version": 2
   },
   "file_extension": ".py",
   "mimetype": "text/x-python",
   "name": "python",
   "nbconvert_exporter": "python",
   "pygments_lexer": "ipython2",
   "version": "2.7.11"
  }
 },
 "nbformat": 4,
 "nbformat_minor": 0
}
