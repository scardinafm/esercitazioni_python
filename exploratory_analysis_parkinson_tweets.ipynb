{
 "cells": [
  {
   "cell_type": "markdown",
   "metadata": {},
   "source": [
    "# Exploratory analysis of ParkinsonsUK_tweets.csv "
   ]
  },
  {
   "cell_type": "code",
   "execution_count": 103,
   "metadata": {
    "collapsed": false
   },
   "outputs": [
    {
     "name": "stdout",
     "output_type": "stream",
     "text": [
      "Number of rows=  3240\n",
      "Number of columns=  10\n",
      "columns names=  ['screen_name', 'name', 'twitter_id', 'description', 'year', 'month', 'date', 'time', 'tweet_id', 'tweet']\n",
      "--------columns data_types:\n",
      "screen_name     object\n",
      "name            object\n",
      "twitter_id     float64\n",
      "description     object\n",
      "year           float64\n",
      "month          float64\n",
      "date           float64\n",
      "time           float64\n",
      "tweet_id       float64\n",
      "tweet           object\n",
      "dtype: object\n"
     ]
    }
   ],
   "source": [
    "import pandas as pd\n",
    "import datetime\n",
    "tweets_dataframe = pd.read_csv(\"ParkinsonsUK_tweets.csv\")\n",
    "num_rows=tweets_dataframe.shape[0]\n",
    "num_cols=tweets_dataframe.shape[1]\n",
    "print'Number of rows= ',num_rows\n",
    "print'Number of columns= ',num_cols\n",
    "columns_names=list(tweets_dataframe.columns.values)\n",
    "print'columns names= ',columns_names\n",
    "print '--------columns data_types:'\n",
    "print(tweets_dataframe.dtypes)\n",
    "#tweets_dataframe=tweets_dataframe.dropna()\n",
    "#tweets_dataframe.hist('month',bins=10)"
   ]
  },
  {
   "cell_type": "markdown",
   "metadata": {},
   "source": [
    "## Interval of time in the dataset"
   ]
  },
  {
   "cell_type": "code",
   "execution_count": 104,
   "metadata": {
    "collapsed": false
   },
   "outputs": [
    {
     "name": "stdout",
     "output_type": "stream",
     "text": [
      "first_date= 2016-01-29 16:00:00\n",
      "last_date= 2016-10-18 08:00:00\n"
     ]
    }
   ],
   "source": [
    "import datetime\n",
    "year_aus=int(tweets_dataframe['year'][num_rows-1])\n",
    "month_aus=int(tweets_dataframe['month'][num_rows-1])\n",
    "day_aus=int(tweets_dataframe['date'][num_rows-1])\n",
    "hour_aus=int(tweets_dataframe['time'][num_rows-1])\n",
    "first_date=datetime.datetime(year =year_aus , month = month_aus, day =day_aus,hour=hour_aus)\n",
    "year_aus=int(tweets_dataframe['year'][0])\n",
    "month_aus=int(tweets_dataframe['month'][0])\n",
    "day_aus=int(tweets_dataframe['date'][0])\n",
    "hour_aus=int(tweets_dataframe['time'][0])\n",
    "last_date=datetime.datetime(year =year_aus , month = month_aus, day =day_aus,hour=hour_aus)\n",
    "print 'first_date=',first_date\n",
    "print 'last_date=', last_date"
   ]
  },
  {
   "cell_type": "markdown",
   "metadata": {},
   "source": [
    "## Number of tweets per interval of time"
   ]
  },
  {
   "cell_type": "code",
   "execution_count": 105,
   "metadata": {
    "collapsed": false
   },
   "outputs": [
    {
     "data": {
      "text/plain": [
       "<matplotlib.figure.Figure at 0xdd16710>"
      ]
     },
     "metadata": {},
     "output_type": "display_data"
    },
    {
     "data": {
      "image/png": "[encoded data removed]",
      "text/plain": [
       "<matplotlib.figure.Figure at 0xdcea278>"
      ]
     },
     "metadata": {},
     "output_type": "display_data"
    }
   ],
   "source": [
    "%matplotlib inline\n",
    "import matplotlib.pyplot as plt\n",
    "fig = plt.figure()\n",
    "#ax1 = fig.add_subplot(1,2,1)\n",
    "time_in_days=tweets_dataframe['date']+tweets_dataframe['month']*31\n",
    "tweets_dataframe['time_in_days']=time_in_days \n",
    "ax1=tweets_dataframe.hist('time_in_days',bins=200)\n",
    "plt.show()"
   ]
  },
  {
   "cell_type": "markdown",
   "metadata": {},
   "source": [
    "## Divide the three categories of tweet"
   ]
  },
  {
   "cell_type": "code",
   "execution_count": 106,
   "metadata": {
    "collapsed": false
   },
   "outputs": [
    {
     "name": "stdout",
     "output_type": "stream",
     "text": [
      "kind of tweets , number of rows:\n",
      "tweets_RT         947\n",
      "tweets_@          1192\n",
      "other tweets      1092\n"
     ]
    }
   ],
   "source": [
    "tweets_dataframe=tweets_dataframe.dropna()\n",
    "tweets_RT=tweets_dataframe[tweets_dataframe[\"tweet\"].str.contains('^RT')]\n",
    "tweets_at=tweets_dataframe[tweets_dataframe[\"tweet\"].str.contains('^@')]\n",
    "tweets_gen=tweets_dataframe[tweets_dataframe[\"tweet\"].str.contains('^(?!RT)')]\n",
    "tweets_gen=tweets_gen[tweets_gen[\"tweet\"].str.contains('^(?!@)')]\n",
    "print 'kind of tweets , number of rows:'\n",
    "print 'tweets_RT        ',tweets_RT.shape[0]\n",
    "print 'tweets_@         ',tweets_at.shape[0]\n",
    "print 'other tweets     ',tweets_gen.shape[0]"
   ]
  },
  {
   "cell_type": "markdown",
   "metadata": {},
   "source": [
    "## Number of tweets_RT per interval of time"
   ]
  },
  {
   "cell_type": "code",
   "execution_count": 107,
   "metadata": {
    "collapsed": false
   },
   "outputs": [
    {
     "data": {
      "text/plain": [
       "array([[<matplotlib.axes._subplots.AxesSubplot object at 0x000000000DD36358>]], dtype=object)"
      ]
     },
     "execution_count": 107,
     "metadata": {},
     "output_type": "execute_result"
    },
    {
     "data": {
      "image/png": "[encoded data removed]",
      "text/plain": [
       "<matplotlib.figure.Figure at 0xddd2b38>"
      ]
     },
     "metadata": {},
     "output_type": "display_data"
    }
   ],
   "source": [
    "tweets_RT.hist('time_in_days',bins=200)"
   ]
  },
  {
   "cell_type": "markdown",
   "metadata": {},
   "source": [
    "## Number of tweets@ per interval of time"
   ]
  },
  {
   "cell_type": "code",
   "execution_count": 108,
   "metadata": {
    "collapsed": false
   },
   "outputs": [
    {
     "data": {
      "text/plain": [
       "array([[<matplotlib.axes._subplots.AxesSubplot object at 0x000000000DC4AEB8>]], dtype=object)"
      ]
     },
     "execution_count": 108,
     "metadata": {},
     "output_type": "execute_result"
    },
    {
     "data": {
      "image/png": "[encoded data removed]",
      "text/plain": [
       "<matplotlib.figure.Figure at 0xdd26d68>"
      ]
     },
     "metadata": {},
     "output_type": "display_data"
    }
   ],
   "source": [
    "tweets_at.hist('time_in_days',bins=200)"
   ]
  },
  {
   "cell_type": "markdown",
   "metadata": {},
   "source": [
    "## Number of tweets_generic per interval of time"
   ]
  },
  {
   "cell_type": "code",
   "execution_count": 109,
   "metadata": {
    "collapsed": false
   },
   "outputs": [
    {
     "data": {
      "text/plain": [
       "array([[<matplotlib.axes._subplots.AxesSubplot object at 0x000000000CEB0470>]], dtype=object)"
      ]
     },
     "execution_count": 109,
     "metadata": {},
     "output_type": "execute_result"
    },
    {
     "data": {
      "image/png": "[encoded data removed]",
      "text/plain": [
       "<matplotlib.figure.Figure at 0xdc4a358>"
      ]
     },
     "metadata": {},
     "output_type": "display_data"
    }
   ],
   "source": [
    "tweets_gen.hist('time_in_days',bins=200)"
   ]
  },
  {
   "cell_type": "markdown",
   "metadata": {},
   "source": [
    "## module for Tokenize tweet, extract address and count most frequent addres"
   ]
  },
  {
   "cell_type": "code",
   "execution_count": 118,
   "metadata": {
    "collapsed": false
   },
   "outputs": [
    {
     "name": "stdout",
     "output_type": "stream",
     "text": [
      "2538\n"
     ]
    }
   ],
   "source": [
    "import re\n",
    "import numpy as np\n",
    "def tokenizize_text(data_frame,column_name):\n",
    "    tokenized_dataframe=[]\n",
    "    for item in data_frame[column_name]:\n",
    "        tokenized_dataframe.append(item.split(\" \"))\n",
    "    return tokenized_dataframe\n",
    "tokenized_tweets=tokenizize_text(tweets_dataframe,'tweet')\n",
    "# find most frequent users\n",
    "def extract_word(text_lists,word):\n",
    "    full_list=[]\n",
    "    for item in text_lists:\n",
    "        tokens=[]\n",
    "        for token in item:\n",
    "            if re.search(word, token) is not None:\n",
    "                tokens.append(token)\n",
    "        if len(tokens)>0:\n",
    "            full_list.append(tokens)\n",
    "    return full_list\n",
    "address_list=extract_word(tokenized_tweets,\"@\")\n",
    "print(len(address_list))\n",
    "def clean_text(text):\n",
    "    punctuation = [\",\", \":\", \";\", \".\", \\\n",
    "'\"', \"?\", \"/\", \"-\", \"+\", \"&\", \"(\", \")\"]\n",
    "    clean_tokenized = []\n",
    "    for item in text:\n",
    "        tokens = []\n",
    "        for token in item:\n",
    "            token = token.lower()\n",
    "            for punc in punctuation:\n",
    "                token = token.replace(punc, \"\")\n",
    "                tokens.append(token)\n",
    "        clean_tokenized.append(tokens)\n",
    "    return clean_tokenized\n",
    "#------------------------------------------------\n",
    "def count_word(data_frame):\n",
    "    tokenized_tweet=tokenizize_text(data_frame,'tweet')\n",
    "    clean_tokenized=clean_text(tokenized_tweet)\n",
    "    address=extract_word(clean_tokenized,\"@\")\n",
    "    unique_tokens = []\n",
    "    single_tokens = []\n",
    "    for tokens in address:\n",
    "        for token in tokens:\n",
    "            if token not in single_tokens:\n",
    "                single_tokens.append(token)\n",
    "            elif token in single_tokens and token not in unique_tokens:\n",
    "                unique_tokens.append(token)\n",
    "    counts = pd.DataFrame(0, index=np.arange\\\n",
    "    (len(clean_tokenized)), columns=unique_tokens)\n",
    "    #--------------------------------------------\n",
    "    for i, item in enumerate(address):\n",
    "       for token in item:\n",
    "            if token in unique_tokens:\n",
    "                counts.iloc[i][token] += 1\n",
    "#    #--------------------------------------\n",
    "    word_counts = counts.sum(axis=0)\n",
    "    word_counts=word_counts.sort_values(ascending=False)\n",
    "    return word_counts"
   ]
  },
  {
   "cell_type": "markdown",
   "metadata": {},
   "source": [
    "### More frequent addres in tweets_RT"
   ]
  },
  {
   "cell_type": "code",
   "execution_count": 120,
   "metadata": {
    "collapsed": false
   },
   "outputs": [
    {
     "name": "stdout",
     "output_type": "stream",
     "text": [
      "@parkinsonsuk       7176\n",
      "@parkinsonsworm      741\n",
      "@daveclarktv         506\n",
      "@burgessimo          396\n",
      "@pjacksonclark       365\n",
      "@parkinsonsukne      330\n",
      "@stevegford          294\n",
      "@pedalparkinsons     280\n",
      "@parkinsons52        266\n",
      "@officialpdc         208\n",
      "dtype: int64\n"
     ]
    }
   ],
   "source": [
    "print count_word(tweets_RT)[0:10]"
   ]
  },
  {
   "cell_type": "markdown",
   "metadata": {},
   "source": [
    "### More frequent addres in tweets@"
   ]
  },
  {
   "cell_type": "code",
   "execution_count": 116,
   "metadata": {
    "collapsed": false
   },
   "outputs": [
    {
     "name": "stdout",
     "output_type": "stream",
     "text": [
      "@justgiving              372\n",
      "@3peaks2016              132\n",
      "@2016pilgrimage          108\n",
      "@jldowsett               108\n",
      "@bignige1962              96\n",
      "@eagleradiokim            84\n",
      "@nightriderbike           84\n",
      "@wwb24e                   84\n",
      "hello@parkinsonsorguk     81\n",
      "@chrisconway              72\n",
      "dtype: int64\n"
     ]
    }
   ],
   "source": [
    "count_word(tweets_at)[0:10]"
   ]
  },
  {
   "cell_type": "markdown",
   "metadata": {},
   "source": [
    "More frequent addres in tweets gen"
   ]
  },
  {
   "cell_type": "code",
   "execution_count": 122,
   "metadata": {
    "collapsed": false
   },
   "outputs": [
    {
     "data": {
      "text/plain": [
       "@daveclarktv                               276\n",
       "@ngsopengardens                            192\n",
       "@stevegford                                168\n",
       "@officialpdc                               156\n",
       "@oxotowerwharf                             132\n",
       "@bbcbreakfast                               96\n",
       "@parkinsons52                               96\n",
       "@comedystoreuk                              93\n",
       "@bbc5live                                   84\n",
       "@mickferry                                  84\n",
       "@pjacksonclark                              84\n",
       "@deeringrob                                 72\n",
       "@comedystoremcr                             72\n",
       "@prescriptioncc                             72\n",
       "@bbctwo                                     67\n",
       "@michaeljfoxorg                             60\n",
       "@fitzwilliamcoll                            60\n",
       "@jasonmanford                               48\n",
       "@giveasyoulive                              48\n",
       "@spookysprint                               48\n",
       "@nhsengland                                 48\n",
       "@dyingmatters                               48\n",
       "@bromptonbicycle                            45\n",
       "@paultonkinson                              45\n",
       "@daveclarktv's                              36\n",
       "@burgessimo                                 36\n",
       "@ucl                                        36\n",
       "@jonathanmayor                              36\n",
       "@dyerlinquent                               36\n",
       "@bbcradio4                                  36\n",
       "                                          ... \n",
       "fundraising@parkinsonsorguk                  9\n",
       "hello@parkinsons.org.uk                      9\n",
       "researchapplications@parkinsonsorguk…        9\n",
       "@susannareid100                              9\n",
       "@deeringrob's                                9\n",
       "pr@parkinsonsorguk                           9\n",
       "rsn@parkinsonsorguk                          9\n",
       "-@johnstapletontv's                          7\n",
       "@ebay4charityuk                              7\n",
       "publications@parkinsons.org.uk               6\n",
       "httpstcok7jw3nftsg\\n@dailymirror             6\n",
       "@officialpdchttpstcokmmkfrrxcl               6\n",
       "@bbctwo?                                     5\n",
       "@johnstapletontv's                           5\n",
       "@cultscreens?                                5\n",
       "@ebay4charityuk?                             5\n",
       "@itv?                                        5\n",
       ".@deeringrob's                               3\n",
       "pr@parkinsons.org.uk                         3\n",
       "@paultonkinson.                              3\n",
       "fundraising@parkinsons.org.uk                3\n",
       ".@susannareid100                             3\n",
       "@comedystoreuk.                              3\n",
       "@officialpdchttps//tco/kmmkfrrxcl            3\n",
       "researchapplications@parkinsons.org.uk…      3\n",
       "rsn@parkinsons.org.uk                        3\n",
       "https//tco/k7jw3nftsg\\n@dailymirror          3\n",
       "@bromptonbicycle.                            3\n",
       "@officialpdc.https//t.co/kmmkfrrxcl          2\n",
       "https//t.co/k7jw3nftsg\\n@dailymirror         2\n",
       "dtype: int64"
      ]
     },
     "execution_count": 122,
     "metadata": {},
     "output_type": "execute_result"
    }
   ],
   "source": [
    "count_word(tweets_gen)[0]"
   ]
  },
  {
   "cell_type": "code",
   "execution_count": null,
   "metadata": {
    "collapsed": true
   },
   "outputs": [],
   "source": []
  }
 ],
 "metadata": {
  "kernelspec": {
   "display_name": "Python 2",
   "language": "python",
   "name": "python2"
  },
  "language_info": {
   "codemirror_mode": {
    "name": "ipython",
    "version": 2
   },
   "file_extension": ".py",
   "mimetype": "text/x-python",
   "name": "python",
   "nbconvert_exporter": "python",
   "pygments_lexer": "ipython2",
   "version": "2.7.11"
  }
 },
 "nbformat": 4,
 "nbformat_minor": 0
}
