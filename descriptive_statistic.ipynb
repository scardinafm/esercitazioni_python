{
 "cells": [
  {
   "cell_type": "code",
   "execution_count": 2,
   "metadata": {
    "collapsed": false
   },
   "outputs": [],
   "source": [
    "import pandas as pd\n",
    "movie_reviews = pd.read_csv(\"fandango_score_comparison.csv\")"
   ]
  },
  {
   "cell_type": "code",
   "execution_count": 3,
   "metadata": {
    "collapsed": false
   },
   "outputs": [
    {
     "data": {
      "text/html": [
       "<div>\n",
       "<table border=\"1\" class=\"dataframe\">\n",
       "  <thead>\n",
       "    <tr style=\"text-align: right;\">\n",
       "      <th></th>\n",
       "      <th>FILM</th>\n",
       "      <th>RottenTomatoes</th>\n",
       "      <th>RottenTomatoes_User</th>\n",
       "      <th>Metacritic</th>\n",
       "      <th>Metacritic_User</th>\n",
       "      <th>IMDB</th>\n",
       "      <th>Fandango_Stars</th>\n",
       "      <th>Fandango_Ratingvalue</th>\n",
       "      <th>RT_norm</th>\n",
       "      <th>RT_user_norm</th>\n",
       "      <th>...</th>\n",
       "      <th>IMDB_norm</th>\n",
       "      <th>RT_norm_round</th>\n",
       "      <th>RT_user_norm_round</th>\n",
       "      <th>Metacritic_norm_round</th>\n",
       "      <th>Metacritic_user_norm_round</th>\n",
       "      <th>IMDB_norm_round</th>\n",
       "      <th>Metacritic_user_vote_count</th>\n",
       "      <th>IMDB_user_vote_count</th>\n",
       "      <th>Fandango_votes</th>\n",
       "      <th>Fandango_Difference</th>\n",
       "    </tr>\n",
       "  </thead>\n",
       "  <tbody>\n",
       "    <tr>\n",
       "      <th>0</th>\n",
       "      <td>Avengers: Age of Ultron (2015)</td>\n",
       "      <td>74</td>\n",
       "      <td>86</td>\n",
       "      <td>66</td>\n",
       "      <td>7.1</td>\n",
       "      <td>7.8</td>\n",
       "      <td>5.0</td>\n",
       "      <td>4.5</td>\n",
       "      <td>3.70</td>\n",
       "      <td>4.3</td>\n",
       "      <td>...</td>\n",
       "      <td>3.90</td>\n",
       "      <td>3.5</td>\n",
       "      <td>4.5</td>\n",
       "      <td>3.5</td>\n",
       "      <td>3.5</td>\n",
       "      <td>4.0</td>\n",
       "      <td>1330</td>\n",
       "      <td>271107</td>\n",
       "      <td>14846</td>\n",
       "      <td>0.5</td>\n",
       "    </tr>\n",
       "    <tr>\n",
       "      <th>1</th>\n",
       "      <td>Cinderella (2015)</td>\n",
       "      <td>85</td>\n",
       "      <td>80</td>\n",
       "      <td>67</td>\n",
       "      <td>7.5</td>\n",
       "      <td>7.1</td>\n",
       "      <td>5.0</td>\n",
       "      <td>4.5</td>\n",
       "      <td>4.25</td>\n",
       "      <td>4.0</td>\n",
       "      <td>...</td>\n",
       "      <td>3.55</td>\n",
       "      <td>4.5</td>\n",
       "      <td>4.0</td>\n",
       "      <td>3.5</td>\n",
       "      <td>4.0</td>\n",
       "      <td>3.5</td>\n",
       "      <td>249</td>\n",
       "      <td>65709</td>\n",
       "      <td>12640</td>\n",
       "      <td>0.5</td>\n",
       "    </tr>\n",
       "  </tbody>\n",
       "</table>\n",
       "<p>2 rows × 22 columns</p>\n",
       "</div>"
      ],
      "text/plain": [
       "                             FILM  RottenTomatoes  RottenTomatoes_User  \\\n",
       "0  Avengers: Age of Ultron (2015)              74                   86   \n",
       "1               Cinderella (2015)              85                   80   \n",
       "\n",
       "   Metacritic  Metacritic_User  IMDB  Fandango_Stars  Fandango_Ratingvalue  \\\n",
       "0          66              7.1   7.8             5.0                   4.5   \n",
       "1          67              7.5   7.1             5.0                   4.5   \n",
       "\n",
       "   RT_norm  RT_user_norm         ...           IMDB_norm  RT_norm_round  \\\n",
       "0     3.70           4.3         ...                3.90            3.5   \n",
       "1     4.25           4.0         ...                3.55            4.5   \n",
       "\n",
       "   RT_user_norm_round  Metacritic_norm_round  Metacritic_user_norm_round  \\\n",
       "0                 4.5                    3.5                         3.5   \n",
       "1                 4.0                    3.5                         4.0   \n",
       "\n",
       "   IMDB_norm_round  Metacritic_user_vote_count  IMDB_user_vote_count  \\\n",
       "0              4.0                        1330                271107   \n",
       "1              3.5                         249                 65709   \n",
       "\n",
       "   Fandango_votes  Fandango_Difference  \n",
       "0           14846                  0.5  \n",
       "1           12640                  0.5  \n",
       "\n",
       "[2 rows x 22 columns]"
      ]
     },
     "execution_count": 3,
     "metadata": {},
     "output_type": "execute_result"
    }
   ],
   "source": [
    "movie_reviews.head(2)"
   ]
  },
  {
   "cell_type": "code",
   "execution_count": 4,
   "metadata": {
    "collapsed": false
   },
   "outputs": [
    {
     "name": "stdout",
     "output_type": "stream",
     "text": [
      "['FILM', 'RottenTomatoes', 'RottenTomatoes_User', 'Metacritic', 'Metacritic_User', 'IMDB', 'Fandango_Stars', 'Fandango_Ratingvalue', 'RT_norm', 'RT_user_norm', 'Metacritic_norm', 'Metacritic_user_nom', 'IMDB_norm', 'RT_norm_round', 'RT_user_norm_round', 'Metacritic_norm_round', 'Metacritic_user_norm_round', 'IMDB_norm_round', 'Metacritic_user_vote_count', 'IMDB_user_vote_count', 'Fandango_votes', 'Fandango_Difference']\n"
     ]
    }
   ],
   "source": [
    "title=movie_reviews.columns.values.tolist()\n",
    "print(title)"
   ]
  },
  {
   "cell_type": "code",
   "execution_count": 5,
   "metadata": {
    "collapsed": true
   },
   "outputs": [],
   "source": [
    "import matplotlib.pyplot as plt\n",
    "%matplotlib inline"
   ]
  },
  {
   "cell_type": "code",
   "execution_count": 6,
   "metadata": {
    "collapsed": false
   },
   "outputs": [
    {
     "data": {
      "text/plain": [
       "<matplotlib.axes._subplots.AxesSubplot at 0x8e8e898>"
      ]
     },
     "execution_count": 6,
     "metadata": {},
     "output_type": "execute_result"
    },
    {
     "data": {
      "image/png": "[encoded data removed]",
      "text/plain": [
       "<matplotlib.figure.Figure at 0x83f49b0>"
      ]
     },
     "metadata": {},
     "output_type": "display_data"
    }
   ],
   "source": [
    "fig = plt.figure(figsize=(8,16))\n",
    "ax1 = fig.add_subplot(4,2,1)\n",
    "ax2 = fig.add_subplot(4,2,2)\n",
    "ax3 = fig.add_subplot(4,2,3)\n",
    "ax4 = fig.add_subplot(4,2,4)\n",
    "ax1.set_xlim(0,15.0)\n",
    "ax2.set_xlim(0,5.0)\n",
    "ax3.set_xlim(0,5.0)\n",
    "ax4.set_xlim(0,5.0)\n",
    "ax1.set_ylim(0,50.0)\n",
    "ax2.set_ylim(0,50.0)\n",
    "ax3.set_ylim(0,50.0)\n",
    "ax4.set_ylim(0,50.0)\n",
    "movie_reviews[\"RT_user_norm\"].hist(ax=ax1)\n",
    "movie_reviews[\"Metacritic_user_nom\"].hist(ax=ax2,color='g',bins=20)\n",
    "movie_reviews[\"Fandango_Ratingvalue\"].hist(ax=ax3,color='r')\n",
    "movie_reviews[\"IMDB_norm\"].hist(ax=ax4,color='m')"
   ]
  },
  {
   "cell_type": "code",
   "execution_count": 7,
   "metadata": {
    "collapsed": false
   },
   "outputs": [
    {
     "name": "stdout",
     "output_type": "stream",
     "text": [
      "<class 'pandas.core.frame.DataFrame'>\n"
     ]
    }
   ],
   "source": [
    "print(type(movie_reviews))"
   ]
  },
  {
   "cell_type": "code",
   "execution_count": 8,
   "metadata": {
    "collapsed": false
   },
   "outputs": [
    {
     "name": "stdout",
     "output_type": "stream",
     "text": [
      "FILM                           object\n",
      "RottenTomatoes                  int64\n",
      "RottenTomatoes_User             int64\n",
      "Metacritic                      int64\n",
      "Metacritic_User               float64\n",
      "IMDB                          float64\n",
      "Fandango_Stars                float64\n",
      "Fandango_Ratingvalue          float64\n",
      "RT_norm                       float64\n",
      "RT_user_norm                  float64\n",
      "Metacritic_norm               float64\n",
      "Metacritic_user_nom           float64\n",
      "IMDB_norm                     float64\n",
      "RT_norm_round                 float64\n",
      "RT_user_norm_round            float64\n",
      "Metacritic_norm_round         float64\n",
      "Metacritic_user_norm_round    float64\n",
      "IMDB_norm_round               float64\n",
      "Metacritic_user_vote_count      int64\n",
      "IMDB_user_vote_count            int64\n",
      "Fandango_votes                  int64\n",
      "Fandango_Difference           float64\n",
      "dtype: object\n"
     ]
    }
   ],
   "source": [
    "tipi=movie_reviews.dtypes\n",
    "print(tipi)"
   ]
  },
  {
   "cell_type": "code",
   "execution_count": 9,
   "metadata": {
    "collapsed": false
   },
   "outputs": [
    {
     "name": "stdout",
     "output_type": "stream",
     "text": [
      "<class 'pandas.core.series.Series'>\n"
     ]
    }
   ],
   "source": [
    "print(type(movie_reviews['RT_norm']))"
   ]
  },
  {
   "cell_type": "code",
   "execution_count": 10,
   "metadata": {
    "collapsed": false
   },
   "outputs": [
    {
     "name": "stdout",
     "output_type": "stream",
     "text": [
      "<type 'numpy.ndarray'>\n"
     ]
    }
   ],
   "source": [
    "print(type(movie_reviews['RT_norm'].values))"
   ]
  },
  {
   "cell_type": "code",
   "execution_count": 11,
   "metadata": {
    "collapsed": false
   },
   "outputs": [],
   "source": [
    "def calc_mean(series):\n",
    "    val=series.values\n",
    "    return sum(val)/len(val)\n",
    "    "
   ]
  },
  {
   "cell_type": "code",
   "execution_count": 12,
   "metadata": {
    "collapsed": false
   },
   "outputs": [
    {
     "name": "stdout",
     "output_type": "stream",
     "text": [
      "(3.1938356164383572, 3.1938356164383572)\n"
     ]
    }
   ],
   "source": [
    "mean1=calc_mean(movie_reviews[\"RT_user_norm\"])\n",
    "mean2=movie_reviews[\"RT_user_norm\"].mean()\n",
    "print(mean1,mean2)"
   ]
  },
  {
   "cell_type": "code",
   "execution_count": 13,
   "metadata": {
    "collapsed": true
   },
   "outputs": [],
   "source": [
    "columns=[\"RT_user_norm\", \"Metacritic_user_nom\", \"Fandango_Ratingvalue\", \"IMDB_norm\"]\n",
    "user_reviews = movie_reviews[columns]"
   ]
  },
  {
   "cell_type": "code",
   "execution_count": 14,
   "metadata": {
    "collapsed": false
   },
   "outputs": [
    {
     "name": "stdout",
     "output_type": "stream",
     "text": [
      "RT_user_norm            3.193836\n",
      "Metacritic_user_nom     3.259589\n",
      "Fandango_Ratingvalue    3.845205\n",
      "IMDB_norm               3.368493\n",
      "dtype: float64\n"
     ]
    }
   ],
   "source": [
    "user_means=user_reviews.apply(calc_mean)\n",
    "print(user_means)"
   ]
  },
  {
   "cell_type": "code",
   "execution_count": 15,
   "metadata": {
    "collapsed": false
   },
   "outputs": [
    {
     "data": {
      "text/plain": [
       "<matplotlib.collections.PathCollection at 0x9801dd8>"
      ]
     },
     "execution_count": 15,
     "metadata": {},
     "output_type": "execute_result"
    },
    {
     "data": {
      "image/png": "[encoded data removed]",
      "text/plain": [
       "<matplotlib.figure.Figure at 0x90b2668>"
      ]
     },
     "metadata": {},
     "output_type": "display_data"
    }
   ],
   "source": [
    "fig = plt.figure(figsize=(8,16))\n",
    "ax1 = fig.add_subplot(3,2,1)\n",
    "ax2 = fig.add_subplot(3,2,2)\n",
    "ax3 = fig.add_subplot(3,2,3)\n",
    "ax1.set_xlim(0,5.0)\n",
    "ax2.set_xlim(0,5.0)\n",
    "ax3.set_xlim(0,5.0)\n",
    "ax1.scatter(user_reviews[\"Fandango_Ratingvalue\"],user_reviews[\"RT_user_norm\"])\n",
    "ax2.scatter(user_reviews[\"Fandango_Ratingvalue\"],user_reviews[\"Metacritic_user_nom\"])\n",
    "ax3.scatter(user_reviews[\"Fandango_Ratingvalue\"],user_reviews[\"IMDB_norm\"])"
   ]
  },
  {
   "cell_type": "code",
   "execution_count": 16,
   "metadata": {
    "collapsed": false
   },
   "outputs": [
    {
     "name": "stdout",
     "output_type": "stream",
     "text": [
      "<type 'list'>\n",
      "<type 'numpy.ndarray'>\n",
      "<class 'pandas.core.series.Series'>\n",
      "<type 'list'>\n",
      "<type 'numpy.ndarray'>\n",
      "<class 'pandas.core.series.Series'>\n",
      "<type 'list'>\n",
      "<type 'numpy.ndarray'>\n",
      "<class 'pandas.core.series.Series'>\n",
      "<type 'list'>\n",
      "<type 'numpy.ndarray'>\n",
      "<class 'pandas.core.series.Series'>\n",
      "<type 'dict'>\n"
     ]
    }
   ],
   "source": [
    "import numpy as np\n",
    "def calc_variance(serie):\n",
    "    val=serie.values\n",
    "    mean=calc_mean(serie)\n",
    "    diff_mean=[(i-mean)**2 for i in serie]\n",
    "    print(type(diff_mean))\n",
    "    diff_mean2=np.asarray(diff_mean)\n",
    "    print(type(diff_mean2))\n",
    "    diff_mean3=pd.Series(diff_mean2)\n",
    "    print(type(diff_mean3))\n",
    "    var=calc_mean(diff_mean3)\n",
    "    return var\n",
    "variance={}\n",
    "for i in columns:\n",
    "    variance[i]=calc_variance(user_reviews[i])\n",
    "print(type(variance))"
   ]
  },
  {
   "cell_type": "code",
   "execution_count": 17,
   "metadata": {
    "collapsed": false
   },
   "outputs": [],
   "source": [
    "def calc_covariance(serie1,serie2):\n",
    "    val1=serie1.values\n",
    "    val2=serie2.values\n",
    "    mean1=calc_mean(serie1)\n",
    "    mean2=calc_mean(serie2)\n",
    "    aus1=[(i-mean1)*(j-mean2) for i in val1 for j in val2]\n",
    "    aus1=np.asarray(aus1)\n",
    "    covar=sum(aus1)#/len(val1)\n",
    "    x_diffs = [i - mean1 for i in val1]\n",
    "    y_diffs = [i - mean2 for i in val2]\n",
    "    codeviates = [x_diffs[i] * y_diffs[i] for i in range(len(val1))]\n",
    "    covar0=sum(codeviates) / len(codeviates)\n",
    "    return covar0\n",
    "    #\n",
    "    #print(type(aus1))\n",
    "   \n",
    "    "
   ]
  },
  {
   "cell_type": "code",
   "execution_count": 18,
   "metadata": {
    "collapsed": false
   },
   "outputs": [
    {
     "name": "stdout",
     "output_type": "stream",
     "text": [
      "<type 'dict'>\n"
     ]
    }
   ],
   "source": [
    "covariance={}\n",
    "for i in columns:\n",
    "    for j in columns:\n",
    "        covariance[i+' vs '+j]=calc_covariance(user_reviews[i],user_reviews[j])\n",
    "print(type(covariance))"
   ]
  },
  {
   "cell_type": "code",
   "execution_count": 19,
   "metadata": {
    "collapsed": false
   },
   "outputs": [
    {
     "name": "stdout",
     "output_type": "stream",
     "text": [
      "{'Metacritic_user_nom vs RT_user_norm': 0.51610363107524848, 'RT_user_norm vs IMDB_norm': 0.42675783449052335, 'RT_user_norm vs Fandango_Ratingvalue': 0.36216222555826588, 'IMDB_norm vs RT_user_norm': 0.42675783449052335, 'IMDB_norm vs Metacritic_user_nom': 0.27196307937699393, 'Fandango_Ratingvalue vs IMDB_norm': 0.14371880277725671, 'Metacritic_user_nom vs Metacritic_user_nom': 0.5666546256333268, 'Metacritic_user_nom vs Fandango_Ratingvalue': 0.1271007693751173, 'Fandango_Ratingvalue vs RT_user_norm': 0.36216222555826588, 'IMDB_norm vs Fandango_Ratingvalue': 0.14371880277725671, 'RT_user_norm vs RT_user_norm': 0.99557843873146901, 'Metacritic_user_nom vs IMDB_norm': 0.27196307937699393, 'RT_user_norm vs Metacritic_user_nom': 0.51610363107524848, 'Fandango_Ratingvalue vs Fandango_Ratingvalue': 0.25110714955901703, 'Fandango_Ratingvalue vs Metacritic_user_nom': 0.1271007693751173, 'IMDB_norm vs IMDB_norm': 0.22821964721336099}\n"
     ]
    }
   ],
   "source": [
    "print(covariance)"
   ]
  },
  {
   "cell_type": "code",
   "execution_count": 20,
   "metadata": {
    "collapsed": false
   },
   "outputs": [
    {
     "name": "stdout",
     "output_type": "stream",
     "text": [
      "('Metacritic_user_nom', 'RT_user_norm', 0.51610363107524848, 0.68713165178044588)\n",
      "('Fandango_Ratingvalue', 'RT_user_norm', 0.36216222555826588, 0.72432899424931385)\n",
      "('Fandango_Ratingvalue', 'Metacritic_user_nom', 0.1271007693751173, 0.33694531426494839)\n",
      "('Fandango_Ratingvalue', 'IMDB_norm', 0.14371880277725671, 0.60035417726263651)\n",
      "('IMDB_norm', 'RT_user_norm', 0.42675783449052335, 0.89529724194777616)\n",
      "('IMDB_norm', 'Metacritic_user_nom', 0.27196307937699393, 0.75626537313647757)\n"
     ]
    }
   ],
   "source": [
    "for i in columns:\n",
    "    for j in columns:\n",
    "        correlation=covariance[i+' vs '+j]/(variance[i]**0.5*variance[j]**0.5)\n",
    "        if i<j:\n",
    "            print(i,j,covariance[i+' vs '+j],correlation)"
   ]
  },
  {
   "cell_type": "code",
   "execution_count": 21,
   "metadata": {
    "collapsed": false
   },
   "outputs": [
    {
     "name": "stdout",
     "output_type": "stream",
     "text": [
      "['Metacritic_user_nom vs RT_user_norm', 'RT_user_norm vs IMDB_norm', 'RT_user_norm vs Fandango_Ratingvalue', 'IMDB_norm vs RT_user_norm', 'IMDB_norm vs Metacritic_user_nom', 'Fandango_Ratingvalue vs IMDB_norm', 'Metacritic_user_nom vs Metacritic_user_nom', 'Metacritic_user_nom vs Fandango_Ratingvalue', 'Fandango_Ratingvalue vs RT_user_norm', 'IMDB_norm vs Fandango_Ratingvalue', 'RT_user_norm vs RT_user_norm', 'Metacritic_user_nom vs IMDB_norm', 'RT_user_norm vs Metacritic_user_nom', 'Fandango_Ratingvalue vs Fandango_Ratingvalue', 'Fandango_Ratingvalue vs Metacritic_user_nom', 'IMDB_norm vs IMDB_norm']\n"
     ]
    }
   ],
   "source": [
    "print(covariance.keys())"
   ]
  },
  {
   "cell_type": "code",
   "execution_count": null,
   "metadata": {
    "collapsed": true
   },
   "outputs": [],
   "source": []
  }
 ],
 "metadata": {
  "kernelspec": {
   "display_name": "Python 2",
   "language": "python",
   "name": "python2"
  },
  "language_info": {
   "codemirror_mode": {
    "name": "ipython",
    "version": 2
   },
   "file_extension": ".py",
   "mimetype": "text/x-python",
   "name": "python",
   "nbconvert_exporter": "python",
   "pygments_lexer": "ipython2",
   "version": "2.7.11"
  }
 },
 "nbformat": 4,
 "nbformat_minor": 0
}
